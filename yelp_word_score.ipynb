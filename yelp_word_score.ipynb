{
 "cells": [
  {
   "cell_type": "markdown",
   "metadata": {},
   "source": [
    "### Import Packages"
   ]
  },
  {
   "cell_type": "code",
   "execution_count": 1,
   "metadata": {
    "collapsed": false
   },
   "outputs": [
    {
     "name": "stderr",
     "output_type": "stream",
     "text": [
      "/Users/tdavid/anaconda/lib/python2.7/site-packages/matplotlib/__init__.py:872: UserWarning: axes.color_cycle is deprecated and replaced with axes.prop_cycle; please use the latter.\n",
      "  warnings.warn(self.msg_depr % (key, alt_key))\n"
     ]
    }
   ],
   "source": [
    "import matplotlib.pyplot as plt\n",
    "import seaborn as sns\n",
    "import pandas as pd\n",
    "import numpy as np\n",
    "import collections\n",
    "from collections import Counter\n",
    "import seaborn as sns\n",
    "%matplotlib inline  "
   ]
  },
  {
   "cell_type": "markdown",
   "metadata": {},
   "source": [
    "### Read in DataSet"
   ]
  },
  {
   "cell_type": "code",
   "execution_count": 2,
   "metadata": {
    "collapsed": false
   },
   "outputs": [
    {
     "name": "stderr",
     "output_type": "stream",
     "text": [
      "/Users/tdavid/anaconda/lib/python2.7/site-packages/pandas/io/parsers.py:1170: DtypeWarning: Columns (0,8,14,16) have mixed types. Specify dtype option on import or set low_memory=False.\n",
      "  data = self._reader.read(nrows)\n"
     ]
    }
   ],
   "source": [
    "dt = pd.read_csv('/Users/tdavid/documents/MIDS/w210/dataset-examples-master/yelp_academic_all.csv')\n",
    "#dt = pd.read_csv('C:/Users/tdavid1.AMR/Downloads/yelp_academic_all.csv')"
   ]
  },
  {
   "cell_type": "markdown",
   "metadata": {},
   "source": [
    "### Create Functions For Future Use"
   ]
  },
  {
   "cell_type": "code",
   "execution_count": 9,
   "metadata": {
    "collapsed": true
   },
   "outputs": [],
   "source": [
    "remove_common_words = ['and','is','a','are','for','of','the','their','as','to','they','out','it','you',\\\n",
    "                       'i','was','in','that','my','we','this','on','with','at','but','be','so','there',\\\n",
    "                       'would','get','he','she','me','our','if','when','',' ','  ','were','or','us','its',\\\n",
    "                       'about','here','from','what','an','will','which','because','them','-']\n",
    "\n",
    "def rcw(counter,word_list):\n",
    "    for i in word_list:\n",
    "        del counter[i]\n",
    "\n",
    "def getwordbins(words):\n",
    "    cnt = Counter()\n",
    "    for word in words:\n",
    "        cnt[word] += 1\n",
    "    rcw(cnt,remove_common_words)\n",
    "    return cnt\n",
    "\n",
    "\n",
    "def common_words(filename, topwords):\n",
    "    #txt = openfile(filename)\n",
    "    #txt = removegarbage(txt)\n",
    "    txt = filename\n",
    "    words = txt.split(' ')\n",
    "    bins = getwordbins(words)\n",
    "    print 'Most common:'\n",
    "    for key, value in bins.most_common(topwords):\n",
    "        print \"%s: %d\" % (key,value)"
   ]
  },
  {
   "cell_type": "markdown",
   "metadata": {},
   "source": [
    "### Record Star Ratings Associated With Particular Word"
   ]
  },
  {
   "cell_type": "code",
   "execution_count": 167,
   "metadata": {
    "collapsed": true
   },
   "outputs": [],
   "source": [
    "word_stars_list_all = list()\n",
    "\n",
    "for i in range(0,len(dt)):\n",
    "    try:\n",
    "        if 'love' in dt.review_text[i]:\n",
    "            #if 'not good' in dt.review_text[i]:\n",
    "                #continue\n",
    "            #else:\n",
    "            word_stars_list_all.append(dt.review_stars[i])\n",
    "    except:\n",
    "        continue"
   ]
  },
  {
   "cell_type": "markdown",
   "metadata": {},
   "source": [
    "##### Mean Rating of Word"
   ]
  },
  {
   "cell_type": "code",
   "execution_count": 168,
   "metadata": {
    "collapsed": false
   },
   "outputs": [
    {
     "name": "stdout",
     "output_type": "stream",
     "text": [
      "Average Star Rating of Word: 4.16\n"
     ]
    }
   ],
   "source": [
    "print \"Average Star Rating of Word: %.2f\" % np.mean(word_stars_list_all)"
   ]
  },
  {
   "cell_type": "markdown",
   "metadata": {},
   "source": [
    "##### Histogram"
   ]
  },
  {
   "cell_type": "code",
   "execution_count": 169,
   "metadata": {
    "collapsed": false
   },
   "outputs": [
    {
     "data": {
      "text/plain": [
       "<matplotlib.axes._subplots.AxesSubplot at 0x27832f710>"
      ]
     },
     "execution_count": 169,
     "metadata": {},
     "output_type": "execute_result"
    },
    {
     "data": {
      "image/png": "[encoded data removed]",
      "text/plain": [
       "<matplotlib.figure.Figure at 0x105721390>"
      ]
     },
     "metadata": {},
     "output_type": "display_data"
    }
   ],
   "source": [
    "sns.distplot(word_stars_list_all,kde=False)"
   ]
  },
  {
   "cell_type": "markdown",
   "metadata": {},
   "source": [
    "### Only Record Those Where Review Was Poor"
   ]
  },
  {
   "cell_type": "code",
   "execution_count": 172,
   "metadata": {
    "collapsed": false
   },
   "outputs": [],
   "source": [
    "word_text_list = list()\n",
    "word_stars_list = list()\n",
    "\n",
    "for i in range(0,len(dt)):\n",
    "    try:\n",
    "        if 'love' in dt.review_text[i]:\n",
    "            #if 'not good' in dt.review_text[i]:\n",
    "            #    continue\n",
    "            #else:\n",
    "                \n",
    "            if dt.review_stars[i] < 4:\n",
    "                word_stars_list.append(dt.review_stars[i])\n",
    "                word_text_list.append(dt.review_text[i])\n",
    "                \n",
    "    except:\n",
    "        continue"
   ]
  },
  {
   "cell_type": "code",
   "execution_count": 171,
   "metadata": {
    "collapsed": false
   },
   "outputs": [
    {
     "name": "stdout",
     "output_type": "stream",
     "text": [
      "number of stars: 2\n",
      "\n",
      "\n",
      "----------------------------------------------------------\n",
      "\n",
      "\n",
      "sentences containing 'good':\n",
      "\n",
      "\n",
      " goldberg's patient is a repeat of the experience i've had with so many other doctors in nyc -- good doctor, terrible staff\n",
      "\n",
      "\n",
      "\n",
      "\n",
      "----------------------------------------------------------\n",
      "\n",
      "\n",
      "complete text:\n",
      "\n",
      "\n",
      "unfortunately, the frustration of being dr. goldberg's patient is a repeat of the experience i've had with so many other doctors in nyc -- good doctor, terrible staff.  it seems that his staff simply never answers the phone.  it usually takes 2 hours of repeated calling to get an answer.  who has time for that or wants to deal with it?  i have run into this problem with many other doctors and i just don't get it.  you have office workers, you have patients with medical needs, why isn't anyone answering the phone?  it's incomprehensible and not work the aggravation.  it's with regret that i feel that i have to give dr. goldberg 2 stars.\n"
     ]
    }
   ],
   "source": [
    "num = 0\n",
    "\n",
    "print \"number of stars: %d\" % word_stars_list[num]\n",
    "\n",
    "print \"\\n\"\n",
    "print \"----------------------------------------------------------\"\n",
    "print \"\\n\"\n",
    "\n",
    "print \"sentences containing '%s':\" % 'good'\n",
    "print \"\\n\"\n",
    "\n",
    "for j in word_text_list[num].lower().split('.'):\n",
    "    try:\n",
    "        if j.index('good') >= 0:\n",
    "            print j.replace('\\n', '').replace('\\r', '')\n",
    "            print '\\n'\n",
    "    except:\n",
    "        continue\n",
    "\n",
    "print \"\\n\"\n",
    "print \"----------------------------------------------------------\"\n",
    "print \"\\n\"\n",
    "\n",
    "print \"complete text:\"\n",
    "print \"\\n\"\n",
    "print word_text_list[num].lower().replace('\\n', '').replace('\\r', '')\n",
    "\n"
   ]
  },
  {
   "cell_type": "markdown",
   "metadata": {},
   "source": [
    "### Print Most Commonly Occurring Words In Current Review"
   ]
  },
  {
   "cell_type": "code",
   "execution_count": 109,
   "metadata": {
    "collapsed": false
   },
   "outputs": [
    {
     "name": "stdout",
     "output_type": "stream",
     "text": [
      "Most common:\n",
      "just: 3\n",
      "food: 3\n",
      "always: 3\n",
      "inspector: 3\n",
      "waiting: 2\n",
      "like: 2\n",
      "health: 2\n",
      "place: 2\n",
      "while: 2\n",
      "don: 2\n"
     ]
    }
   ],
   "source": [
    "m = word_text_list[num].lower().replace('\\n', '').replace('\\r', '').replace('.','').replace(',','').replace('  ','').replace(\"'\",\"\").split(' ')\n",
    "\n",
    "c = collections.Counter(m)\n",
    "#remove_common_words = ['and','is','a','are','for','of','the','their','as','to','they','out','it','you']\n",
    "\n",
    "def rcw(counter,word_list):\n",
    "    for i in word_list:\n",
    "        del counter[i]\n",
    "\n",
    "rcw(c,remove_common_words)\n",
    "\n",
    "print 'Most common:'\n",
    "for letter, count in c.most_common(10):\n",
    "    print '%s: %d' % (letter, count)"
   ]
  },
  {
   "cell_type": "markdown",
   "metadata": {},
   "source": [
    "---"
   ]
  },
  {
   "cell_type": "code",
   "execution_count": 7,
   "metadata": {
    "collapsed": true
   },
   "outputs": [],
   "source": [
    "allstarstring = \"\"\n",
    "for i in range(0,len(dt)):\n",
    "    try:\n",
    "        allstarstring = allstarstring + dt['review_text'][i].lower().replace('\\n', ' ').replace('\\r', ' ').replace('.','').replace(',',' ').replace('  ',' ').replace(\"'\",\"\")\n",
    "    except:\n",
    "        continue"
   ]
  },
  {
   "cell_type": "code",
   "execution_count": 22,
   "metadata": {
    "collapsed": false
   },
   "outputs": [
    {
     "name": "stdout",
     "output_type": "stream",
     "text": [
      "Average Star Rating of Word: 3.66\n"
     ]
    }
   ],
   "source": [
    "word_stars_list_all = list()\n",
    "\n",
    "for i in range(0,len(dt)):\n",
    "    try:\n",
    "        if 'food' in dt.review_text[i]:\n",
    "            word_stars_list_all.append(dt.review_stars[i])\n",
    "    except:\n",
    "        continue\n",
    "        \n",
    "print \"Average Star Rating of Word: %.2f\" % np.nanmean(word_stars_list_all)"
   ]
  },
  {
   "cell_type": "code",
   "execution_count": 15,
   "metadata": {
    "collapsed": false
   },
   "outputs": [],
   "source": [
    "list_A = list()\n",
    "\n",
    "words = allstarstring.split(' ')\n",
    "bins = getwordbins(words)\n",
    "\n",
    "for key in bins.most_common(50):\n",
    "    list_A.append(key) "
   ]
  },
  {
   "cell_type": "code",
   "execution_count": 13,
   "metadata": {
    "collapsed": false
   },
   "outputs": [
    {
     "name": "stdout",
     "output_type": "stream",
     "text": [
      "Average Star Rating of Word: 3.66\n"
     ]
    }
   ],
   "source": [
    "word_stars_list_all = list()\n",
    "\n",
    "for i in range(0,len(dt)):\n",
    "    try:\n",
    "        if 'food' in dt.review_text[i]:\n",
    "            #if 'not good' in dt.review_text[i]:\n",
    "                #continue\n",
    "            #else:\n",
    "            word_stars_list_all.append(dt.review_stars[i])\n",
    "    except:\n",
    "        continue\n",
    "        \n",
    "print \"Average Star Rating of Word: %.2f\" % np.nanmean(word_stars_list_all)"
   ]
  },
  {
   "cell_type": "code",
   "execution_count": 10,
   "metadata": {
    "collapsed": false
   },
   "outputs": [
    {
     "name": "stdout",
     "output_type": "stream",
     "text": [
      "Most common:\n",
      "have: 1226598\n",
      "not: 1114508\n",
      "had: 1098341\n",
      "good: 857101\n",
      "place: 838688\n",
      "food: 807480\n",
      "all: 689010\n",
      "very: 677049\n",
      "like: 669570\n",
      "great: 646115\n",
      "just: 637028\n",
      "one: 575721\n",
      "time: 519363\n",
      "service: 496642\n",
      "up: 492872\n",
      "really: 467530\n",
      "go: 465716\n",
      "some: 444124\n",
      "your: 408624\n",
      "back: 407804\n",
      "can: 397832\n",
      "been: 389832\n",
      "more: 375132\n",
      "only: 373982\n",
      "also: 371522\n",
      "no: 361793\n",
      "by: 348870\n",
      "dont: 342783\n",
      "other: 331264\n",
      "got: 324606\n",
      "nice: 322504\n",
      "even: 316606\n",
      "has: 294260\n",
      "too: 291840\n",
      "im: 291067\n",
      "do: 290460\n",
      "well: 289878\n",
      "little: 284293\n",
      "than: 279553\n",
      "after: 277414\n",
      "best: 276160\n",
      "didnt: 267648\n",
      "love: 266752\n",
      "always: 262469\n",
      "ordered: 255748\n",
      "much: 255414\n",
      "ive: 253611\n",
      "pretty: 244955\n",
      "people: 242318\n",
      "did: 240886\n"
     ]
    }
   ],
   "source": [
    "common_words(allstarstring,50)"
   ]
  },
  {
   "cell_type": "markdown",
   "metadata": {},
   "source": [
    "### Subset Those Reviews With 1 Star"
   ]
  },
  {
   "cell_type": "code",
   "execution_count": 73,
   "metadata": {
    "collapsed": true
   },
   "outputs": [],
   "source": [
    "dt_1star = dt[dt.review_stars == 1]\n",
    "dt_1star = dt_1star.reset_index(drop=True)"
   ]
  },
  {
   "cell_type": "code",
   "execution_count": 74,
   "metadata": {
    "collapsed": true
   },
   "outputs": [],
   "source": [
    "onestarstring = \"\"\n",
    "for i in range(0,len(dt_1star)):\n",
    "    try:\n",
    "        onestarstring = onestarstring + dt_1star['review_text'][i].lower().replace('\\n', ' ').replace('\\r', ' ').replace('.','').replace(',',' ').replace('  ',' ').replace(\"'\",\"\")\n",
    "    except:\n",
    "        continue"
   ]
  },
  {
   "cell_type": "code",
   "execution_count": 75,
   "metadata": {
    "collapsed": false
   },
   "outputs": [
    {
     "data": {
      "text/plain": [
       "125631672"
      ]
     },
     "execution_count": 75,
     "metadata": {},
     "output_type": "execute_result"
    }
   ],
   "source": [
    "len(onestarstring)"
   ]
  },
  {
   "cell_type": "code",
   "execution_count": 123,
   "metadata": {
    "collapsed": false
   },
   "outputs": [
    {
     "name": "stdout",
     "output_type": "stream",
     "text": [
      "Most common:\n",
      "not: 197022\n",
      "have: 151605\n",
      "had: 147012\n",
      "food: 89805\n",
      "no: 87277\n",
      "place: 84152\n",
      "just: 82614\n",
      "all: 79834\n",
      "one: 78345\n",
      "up: 77578\n",
      "like: 77047\n",
      "back: 68987\n",
      "time: 68946\n",
      "service: 68348\n",
      "go: 60041\n",
      "even: 59564\n",
      "after: 57762\n",
      "never: 57594\n",
      "said: 54430\n",
      "dont: 52484\n",
      "only: 52418\n",
      "then: 51102\n",
      "your: 50995\n",
      "been: 50856\n",
      "very: 50853\n",
      "do: 50281\n",
      "told: 50099\n",
      "good: 50004\n",
      "didnt: 48982\n",
      "got: 48859\n",
      "by: 48604\n",
      "her: 48592\n",
      "did: 43613\n",
      "could: 43157\n",
      "over: 42575\n",
      "asked: 41016\n",
      "minutes: 40231\n",
      "went: 39974\n",
      "other: 39285\n",
      "order: 38772\n",
      "came: 37961\n",
      "more: 37845\n",
      "some: 37566\n",
      "people: 37253\n",
      "can: 36164\n",
      "who: 34891\n",
      "ordered: 34793\n",
      "how: 34168\n",
      "off: 33947\n",
      "know: 33377\n"
     ]
    }
   ],
   "source": [
    "common_words(onestarstring,50)"
   ]
  },
  {
   "cell_type": "markdown",
   "metadata": {},
   "source": [
    "### Subset Those Reviews With 2 Stars"
   ]
  },
  {
   "cell_type": "code",
   "execution_count": 77,
   "metadata": {
    "collapsed": true
   },
   "outputs": [],
   "source": [
    "dt_2star = dt[dt.review_stars == 2]\n",
    "dt_2star = dt_2star.reset_index(drop=True)"
   ]
  },
  {
   "cell_type": "code",
   "execution_count": 78,
   "metadata": {
    "collapsed": false
   },
   "outputs": [],
   "source": [
    "twostarstring = \"\"\n",
    "for i in range(0,len(dt_2star)):\n",
    "    try:\n",
    "        twostarstring = twostarstring + dt_2star['review_text'][i].lower().replace('\\n', ' ').replace('\\r', ' ').replace('.','').replace(',',' ').replace('  ',' ').replace(\"'\",\"\")\n",
    "    except:\n",
    "        continue"
   ]
  },
  {
   "cell_type": "code",
   "execution_count": 79,
   "metadata": {
    "collapsed": false
   },
   "outputs": [
    {
     "data": {
      "text/plain": [
       "112072101"
      ]
     },
     "execution_count": 79,
     "metadata": {},
     "output_type": "execute_result"
    }
   ],
   "source": [
    "len(twostarstring)"
   ]
  },
  {
   "cell_type": "code",
   "execution_count": 124,
   "metadata": {
    "collapsed": false
   },
   "outputs": [
    {
     "name": "stdout",
     "output_type": "stream",
     "text": [
      "Most common:\n",
      "not: 171612\n",
      "had: 127251\n",
      "have: 125545\n",
      "food: 102730\n",
      "just: 86606\n",
      "good: 84141\n",
      "like: 83616\n",
      "place: 82915\n",
      "all: 70503\n",
      "one: 66319\n",
      "very: 61959\n",
      "up: 59692\n",
      "no: 58431\n",
      "service: 57991\n",
      "time: 56350\n",
      "really: 52160\n",
      "go: 48918\n",
      "back: 47508\n",
      "only: 47194\n",
      "some: 45654\n",
      "dont: 44235\n",
      "been: 43915\n",
      "more: 43081\n",
      "didnt: 42816\n",
      "got: 40234\n",
      "other: 40026\n",
      "even: 39936\n",
      "ordered: 39674\n",
      "by: 38602\n",
      "after: 37761\n",
      "your: 35995\n",
      "too: 34840\n",
      "much: 34793\n",
      "better: 34357\n",
      "great: 33295\n",
      "can: 33291\n",
      "order: 33168\n",
      "did: 33164\n",
      "came: 33099\n",
      "do: 32785\n",
      "im: 32164\n",
      "than: 31973\n",
      "then: 31666\n",
      "over: 31283\n",
      "could: 30191\n",
      "people: 29867\n",
      "also: 29835\n",
      "restaurant: 28725\n",
      "pretty: 28269\n",
      "went: 27868\n"
     ]
    }
   ],
   "source": [
    "common_words(twostarstring,50)"
   ]
  },
  {
   "cell_type": "markdown",
   "metadata": {
    "collapsed": true
   },
   "source": [
    "### Subset Those Reviews With 3 Stars"
   ]
  },
  {
   "cell_type": "code",
   "execution_count": 81,
   "metadata": {
    "collapsed": true
   },
   "outputs": [],
   "source": [
    "dt_3star = dt[dt.review_stars == 3]\n",
    "dt_3star = dt_3star.reset_index(drop=True)"
   ]
  },
  {
   "cell_type": "code",
   "execution_count": 82,
   "metadata": {
    "collapsed": false
   },
   "outputs": [],
   "source": [
    "threestarstring = \"\"\n",
    "for i in range(0,len(dt_3star)):\n",
    "    try:\n",
    "        threestarstring = threestarstring + dt_3star['review_text'][i].lower().replace('\\n', ' ').replace('\\r', ' ').replace('.','').replace(',',' ').replace('  ',' ').replace(\"'\",\"\")\n",
    "    except:\n",
    "        continue"
   ]
  },
  {
   "cell_type": "code",
   "execution_count": 83,
   "metadata": {
    "collapsed": false
   },
   "outputs": [
    {
     "data": {
      "text/plain": [
       "162490397"
      ]
     },
     "execution_count": 83,
     "metadata": {},
     "output_type": "execute_result"
    }
   ],
   "source": [
    "len(threestarstring)"
   ]
  },
  {
   "cell_type": "code",
   "execution_count": 125,
   "metadata": {
    "collapsed": false
   },
   "outputs": [
    {
     "name": "stdout",
     "output_type": "stream",
     "text": [
      "Most common:\n",
      "not: 213498\n",
      "have: 183612\n",
      "good: 177414\n",
      "had: 170599\n",
      "food: 139933\n",
      "place: 131003\n",
      "like: 122893\n",
      "just: 117895\n",
      "all: 100553\n",
      "very: 98036\n",
      "one: 88590\n",
      "really: 86540\n",
      "some: 81969\n",
      "up: 78161\n",
      "service: 76818\n",
      "time: 75972\n",
      "go: 73168\n",
      "great: 71527\n",
      "more: 71159\n",
      "pretty: 63350\n",
      "other: 60361\n",
      "nice: 60259\n",
      "dont: 60079\n",
      "back: 60017\n",
      "only: 59006\n",
      "too: 58220\n",
      "can: 57768\n",
      "your: 57294\n",
      "little: 56610\n",
      "been: 55620\n",
      "no: 55552\n",
      "also: 55061\n",
      "got: 53729\n",
      "didnt: 52934\n",
      "by: 51342\n",
      "than: 51236\n",
      "much: 49944\n",
      "im: 48551\n",
      "ordered: 48314\n",
      "do: 45933\n",
      "well: 42404\n",
      "has: 41679\n",
      "better: 41447\n",
      "after: 41071\n",
      "think: 40781\n",
      "even: 40349\n",
      "people: 40154\n",
      "did: 39871\n",
      "restaurant: 39754\n",
      "chicken: 39249\n"
     ]
    }
   ],
   "source": [
    "common_words(threestarstring,50)"
   ]
  },
  {
   "cell_type": "markdown",
   "metadata": {},
   "source": [
    "### Subset Those Reviews With 4 Stars"
   ]
  },
  {
   "cell_type": "code",
   "execution_count": 85,
   "metadata": {
    "collapsed": true
   },
   "outputs": [],
   "source": [
    "dt_4star = dt[dt.review_stars == 4]\n",
    "dt_4star = dt_4star.reset_index(drop=True)"
   ]
  },
  {
   "cell_type": "code",
   "execution_count": 86,
   "metadata": {
    "collapsed": true
   },
   "outputs": [],
   "source": [
    "fourstarstring = \"\"\n",
    "for i in range(0,len(dt_4star)):\n",
    "    try:\n",
    "        fourstarstring = fourstarstring + dt_4star['review_text'][i].lower().replace('\\n', ' ').replace('\\r', ' ').replace('.','').replace(',',' ').replace('  ',' ').replace(\"'\",\"\")\n",
    "    except:\n",
    "        continue"
   ]
  },
  {
   "cell_type": "code",
   "execution_count": 87,
   "metadata": {
    "collapsed": false
   },
   "outputs": [
    {
     "data": {
      "text/plain": [
       "305388835"
      ]
     },
     "execution_count": 87,
     "metadata": {},
     "output_type": "execute_result"
    }
   ],
   "source": [
    "len(fourstarstring)"
   ]
  },
  {
   "cell_type": "code",
   "execution_count": 126,
   "metadata": {
    "collapsed": false
   },
   "outputs": [
    {
     "name": "stdout",
     "output_type": "stream",
     "text": [
      "Most common:\n",
      "have: 356428\n",
      "good: 325423\n",
      "had: 316842\n",
      "not: 287394\n",
      "place: 259371\n",
      "food: 239444\n",
      "very: 226903\n",
      "great: 226271\n",
      "like: 204846\n",
      "all: 201304\n",
      "just: 171513\n",
      "one: 169090\n",
      "really: 159877\n",
      "some: 151769\n",
      "time: 146119\n",
      "up: 138367\n",
      "service: 134819\n",
      "go: 131973\n",
      "can: 131360\n",
      "also: 128219\n",
      "nice: 122695\n",
      "your: 122140\n",
      "more: 117627\n",
      "only: 117129\n",
      "little: 109837\n",
      "back: 109223\n",
      "been: 105701\n",
      "other: 100121\n",
      "too: 97623\n",
      "by: 96937\n",
      "well: 96705\n",
      "dont: 94291\n",
      "pretty: 93331\n",
      "got: 92045\n",
      "has: 90074\n",
      "im: 89828\n",
      "than: 87108\n",
      "always: 86948\n",
      "love: 83156\n",
      "no: 79488\n",
      "definitely: 79269\n",
      "try: 78564\n",
      "chicken: 76760\n",
      "even: 76572\n",
      "do: 76301\n",
      "much: 75981\n",
      "ive: 75778\n",
      "menu: 75618\n",
      "ordered: 75160\n",
      "best: 72502\n"
     ]
    }
   ],
   "source": [
    "common_words(fourstarstring,50)"
   ]
  },
  {
   "cell_type": "markdown",
   "metadata": {},
   "source": [
    "### Subset Those Reviews With 5 Stars"
   ]
  },
  {
   "cell_type": "code",
   "execution_count": 89,
   "metadata": {
    "collapsed": true
   },
   "outputs": [],
   "source": [
    "dt_5star = dt[dt.review_stars == 5]\n",
    "dt_5star = dt_5star.reset_index(drop=True)"
   ]
  },
  {
   "cell_type": "code",
   "execution_count": 90,
   "metadata": {
    "collapsed": true
   },
   "outputs": [],
   "source": [
    "fivestarstring = \"\"\n",
    "for i in range(0,len(dt_5star)):\n",
    "    try:\n",
    "        fivestarstring = fivestarstring + dt_5star['review_text'][i].lower().replace('\\n', ' ').replace('\\r', ' ').replace('.','').replace(',',' ').replace('  ',' ').replace(\"'\",\"\")\n",
    "    except:\n",
    "        continue"
   ]
  },
  {
   "cell_type": "code",
   "execution_count": 91,
   "metadata": {
    "collapsed": false
   },
   "outputs": [
    {
     "data": {
      "text/plain": [
       "323429922"
      ]
     },
     "execution_count": 91,
     "metadata": {},
     "output_type": "execute_result"
    }
   ],
   "source": [
    "len(fivestarstring)"
   ]
  },
  {
   "cell_type": "code",
   "execution_count": 127,
   "metadata": {
    "collapsed": false
   },
   "outputs": [
    {
     "name": "stdout",
     "output_type": "stream",
     "text": [
      "Most common:\n",
      "have: 409400\n",
      "had: 336641\n",
      "great: 295087\n",
      "place: 281250\n",
      "not: 244977\n",
      "very: 239311\n",
      "all: 236815\n",
      "food: 235561\n",
      "good: 220114\n",
      "like: 181167\n",
      "just: 178387\n",
      "one: 173380\n",
      "time: 171976\n",
      "service: 158666\n",
      "go: 151616\n",
      "best: 145692\n",
      "your: 142199\n",
      "can: 139248\n",
      "up: 139075\n",
      "love: 137906\n",
      "really: 136184\n",
      "been: 133738\n",
      "also: 132525\n",
      "some: 127163\n",
      "back: 122068\n",
      "always: 121193\n",
      "by: 113384\n",
      "has: 106218\n",
      "more: 105420\n",
      "ive: 102697\n",
      "well: 101182\n",
      "even: 100185\n",
      "only: 98234\n",
      "friendly: 96240\n",
      "nice: 95362\n",
      "staff: 91831\n",
      "dont: 91701\n",
      "other: 91471\n",
      "got: 89738\n",
      "im: 89564\n",
      "amazing: 89026\n",
      "do: 85164\n",
      "try: 83739\n",
      "definitely: 83455\n",
      "vegas: 83194\n",
      "no: 81039\n",
      "than: 79926\n",
      "first: 79009\n",
      "little: 78147\n",
      "too: 76201\n"
     ]
    }
   ],
   "source": [
    "common_words(fivestarstring,50)"
   ]
  },
  {
   "cell_type": "code",
   "execution_count": null,
   "metadata": {
    "collapsed": true
   },
   "outputs": [],
   "source": []
  },
  {
   "cell_type": "code",
   "execution_count": 8,
   "metadata": {
    "collapsed": false
   },
   "outputs": [],
   "source": [
    "bigram_list = list()\n",
    "for j in range(0,len(dt)):\n",
    "\n",
    "    import re\n",
    "\n",
    "    a = ' '\n",
    "    txt_line = str(dt.review_text[j]).lower()\n",
    "    txt_line = re.sub(r\"http\\S+\",'',txt_line)\n",
    "    txt_line = txt_line.replace('\\n', '').replace('\\r', '').replace(';','').replace('  ','').replace(',','')\n",
    "    txt_line = txt_line.replace(\"'\",\"\").replace(\")\",'').replace(\"(\",'').replace('!',' ').replace('.',' ').replace('?',' ')\n",
    "    txt_line = txt_line.replace('\"','').replace('&','').replace('/','').replace(':','').replace('-',' ').replace('~',' ')\n",
    "    txt_line = txt_line.replace('*','')\n",
    "    for i in txt_line.split():\n",
    "        if a <> '' and i <> '' and a <> ' ' and i <> ' ': #if (' ' not in a + i) and ('--' not in a+i):\n",
    "            bigram_list.append(a + ' ' + i)\n",
    "            #print a + ' ' + i\n",
    "        a = i"
   ]
  },
  {
   "cell_type": "code",
   "execution_count": null,
   "metadata": {
    "collapsed": false,
    "scrolled": true
   },
   "outputs": [],
   "source": [
    "Counter(bigram_list).most_common(50) "
   ]
  },
  {
   "cell_type": "markdown",
   "metadata": {
    "collapsed": true
   },
   "source": [
    "----"
   ]
  },
  {
   "cell_type": "code",
   "execution_count": 3,
   "metadata": {
    "collapsed": true
   },
   "outputs": [],
   "source": [
    "bigram_list = list()\n",
    "for j in range(0,len(dt)):\n",
    "\n",
    "    import re\n",
    "\n",
    "    a = ' '\n",
    "    txt_line = str(dt.review_text[j]).lower()\n",
    "    txt_line = re.sub(r\"http\\S+\",'',txt_line)\n",
    "    txt_line = txt_line.replace('\\n', '').replace('\\r', '').replace(';','').replace('  ','').replace(',','')\n",
    "    txt_line = txt_line.replace(\"'\",\"\").replace(\")\",'').replace(\"(\",'').replace('!',' ').replace('.',' ').replace('?',' ')\n",
    "    txt_line = txt_line.replace('\"','').replace('&','').replace('/','').replace(':','').replace('-',' ').replace('~',' ')\n",
    "    txt_line = txt_line.replace('*','')\n",
    "    for i in txt_line.split():\n",
    "        if a <> '' and i <> '' and a <> ' ' and i <> ' ': #if (' ' not in a + i) and ('--' not in a+i):\n",
    "            d = a + ' ' + i\n",
    "            if i == 'good':\n",
    "                bigram_list.append(a + ' ' + i)\n",
    "                #print a + ' ' + i\n",
    "        a = i"
   ]
  },
  {
   "cell_type": "code",
   "execution_count": 4,
   "metadata": {
    "collapsed": true
   },
   "outputs": [],
   "source": [
    "cc = Counter(bigram_list)"
   ]
  },
  {
   "cell_type": "code",
   "execution_count": 6,
   "metadata": {
    "collapsed": false
   },
   "outputs": [
    {
     "name": "stdout",
     "output_type": "stream",
     "text": [
      "a (140838)\n",
      "was (85894)\n",
      "very (81335)\n",
      "pretty (55573)\n",
      "really (53584)\n",
      "is (39151)\n",
      "so (35494)\n",
      "as (25961)\n",
      "were (22542)\n",
      "and (16347)\n",
      "the (15538)\n",
      "are (14710)\n",
      "not (10707)\n",
      "some (9551)\n",
      "that (9399)\n",
      "for (7152)\n",
      "quite (7088)\n",
      "of (6784)\n",
      "its (6757)\n",
      "be (6580)\n",
      "always (5975)\n",
      "with (5944)\n",
      "but (5925)\n",
      "how (5897)\n",
      "all (5232)\n",
      "had (4905)\n",
      "damn (4484)\n",
      "have (4337)\n",
      "still (4245)\n",
      "also (4077)\n",
      "food (3867)\n",
      "looked (3382)\n",
      "only (3334)\n",
      "in (3175)\n",
      "tasted (3114)\n",
      "been (2972)\n",
      "darn (2912)\n",
      "too (2752)\n",
      "consistently (2670)\n",
      "taste (2338)\n",
      "service (2194)\n",
      "surprisingly (2182)\n",
      "many (2167)\n",
      "sooo (2111)\n",
      "soooo (2047)\n",
      "enough (1967)\n",
      "it (1963)\n",
      "wasnt (1887)\n",
      "has (1830)\n",
      "this (1771)\n",
      "overall (1737)\n",
      "super (1718)\n",
      "to (1690)\n",
      "look (1672)\n",
      "just (1613)\n",
      "get (1588)\n",
      "any (1487)\n",
      "heard (1431)\n",
      "no (1423)\n",
      "real (1398)\n",
      "feel (1360)\n",
      "tastes (1339)\n",
      "place (1317)\n",
      "want (1293)\n",
      "find (1255)\n",
      "such (1216)\n",
      "looks (1206)\n",
      "sooooo (1149)\n",
      "fairly (1092)\n",
      "sounded (1084)\n",
      "good (1082)\n",
      "other (1075)\n",
      "soo (1024)\n",
      "crazy (980)\n",
      "both (978)\n",
      "thats (929)\n",
      "actually (929)\n",
      "one (884)\n",
      "atmosphere (848)\n",
      "something (835)\n",
      "my (834)\n",
      "great (821)\n",
      "staff (814)\n",
      "extremely (805)\n",
      "definitely (799)\n",
      "like (798)\n",
      "few (795)\n",
      "what (784)\n",
      "another (746)\n",
      "sounds (727)\n",
      "ridiculously (717)\n",
      "know (714)\n",
      "on (694)\n",
      "amazingly (679)\n",
      "make (669)\n",
      "usually (668)\n",
      "isnt (666)\n",
      "especially (662)\n",
      "out (658)\n",
      "particularly (597)\n",
      "at (593)\n",
      "equally (579)\n",
      "even (572)\n",
      "theyre (563)\n",
      "prices (533)\n",
      "here (521)\n",
      "well (494)\n",
      "seriously (492)\n",
      "me (489)\n",
      "dang (484)\n",
      "love (480)\n",
      "insanely (479)\n",
      "generally (470)\n",
      "soooooo (457)\n",
      "or (449)\n",
      "got (447)\n",
      "much (446)\n",
      "freaking (445)\n",
      "time (429)\n",
      "thing (427)\n",
      "drinks (413)\n",
      "being (412)\n",
      "from (407)\n",
      "whats (404)\n",
      "took (401)\n",
      "incredibly (397)\n",
      "than (394)\n",
      "about (390)\n",
      "around (380)\n",
      "eat (380)\n",
      "do (379)\n",
      "say (379)\n",
      "youre (376)\n",
      "take (373)\n",
      "again (372)\n",
      "felt (366)\n",
      "beer (363)\n",
      "their (363)\n",
      "music (353)\n",
      "nice (353)\n",
      "bar (352)\n",
      "people (352)\n",
      "enjoy (351)\n",
      "up (350)\n",
      "you (346)\n",
      "tasty (342)\n",
      "there (340)\n",
      "im (340)\n",
      "mouth (337)\n",
      "more (336)\n",
      "friendly (334)\n",
      "clean (334)\n",
      "nothing (332)\n",
      "made (331)\n",
      "exceptionally (327)\n",
      "cheap (318)\n",
      "feeling (311)\n",
      "unbelievably (311)\n",
      "restaurant (309)\n",
      "while (308)\n",
      "perfectly (308)\n",
      "back (307)\n",
      "looking (307)\n",
      "expect (306)\n",
      "price (304)\n",
      "fresh (301)\n",
      "smelled (301)\n",
      "pizza (300)\n",
      "world (299)\n",
      "menu (291)\n",
      "us (285)\n",
      "vegas (282)\n",
      "said (280)\n",
      "werent (279)\n",
      "selection (279)\n",
      "experience (278)\n",
      "delicious (276)\n",
      "location (275)\n",
      "give (268)\n",
      "sound (267)\n",
      "them (267)\n",
      "provide (263)\n",
      "sauce (261)\n",
      "smells (256)\n",
      "= (256)\n",
      "finding (254)\n",
      "portions (254)\n",
      "rather (253)\n",
      "freakin (251)\n",
      "anything (251)\n",
      "mostly (248)\n",
      "two (247)\n",
      "ok (242)\n",
      "serve (240)\n",
      "own (239)\n",
      "night (238)\n",
      "licking (235)\n",
      "baked (228)\n",
      "sooooooo (226)\n",
      "where (221)\n",
      "coffee (221)\n",
      "salad (221)\n",
      "feels (220)\n",
      "awesome (220)\n",
      "fries (217)\n",
      "foods (211)\n",
      "probably (206)\n",
      "several (205)\n",
      "fast (204)\n",
      "your (202)\n",
      "though (199)\n",
      "relatively (198)\n",
      "amazing (197)\n",
      "seemed (196)\n",
      "getting (195)\n",
      "our (194)\n",
      "stars (191)\n",
      "reasonably (190)\n",
      "they (189)\n",
      "off (188)\n",
      "area (184)\n",
      "appreciate (184)\n",
      "offer (184)\n",
      "by (183)\n",
      "cheese (183)\n",
      "did (182)\n",
      "flavor (181)\n",
      "meal (180)\n",
      "makes (179)\n",
      "fun (179)\n",
      "play (178)\n",
      "arent (178)\n",
      "quality (177)\n",
      "having (175)\n",
      "decor (175)\n",
      "mmm (174)\n",
      "ambiance (174)\n",
      "same (173)\n",
      "otherwise (172)\n",
      "chicken (172)\n",
      "times (171)\n",
      "read (171)\n",
      "pros (169)\n",
      "hearing (166)\n",
      "serves (164)\n",
      "way (164)\n",
      "damned (164)\n",
      "priced (161)\n",
      "burger (161)\n",
      "everything (157)\n",
      "spot (156)\n",
      "hella (155)\n",
      "craving (153)\n",
      "truly (150)\n",
      "day (150)\n",
      "strip (150)\n",
      "doing (150)\n",
      "vibe (149)\n",
      "drink (147)\n",
      "bad (146)\n",
      "excellent (146)\n",
      "gave (145)\n",
      "right (145)\n",
      "offers (144)\n",
      "sushi (144)\n",
      "darned (143)\n",
      "2 (143)\n",
      "decent (143)\n",
      "theres (141)\n",
      "lunch (140)\n",
      "quick (139)\n",
      "received (138)\n",
      "use (138)\n",
      "go (136)\n",
      "plain (136)\n",
      "yummy (135)\n",
      "never (135)\n",
      "room (134)\n",
      "hour (131)\n",
      "sandwich (131)\n",
      "certainly (131)\n",
      "bread (130)\n",
      "simple (130)\n",
      "extra (129)\n",
      "smell (129)\n",
      "solid (128)\n",
      "eating (128)\n",
      "top (127)\n",
      "provided (127)\n",
      "burgers (126)\n",
      "either (126)\n",
      "soup (123)\n",
      "beyond (121)\n",
      "wine (121)\n",
      "town (118)\n",
      "does (117)\n",
      "least (117)\n",
      "line (116)\n",
      "played (116)\n",
      "okay (116)\n",
      "store (115)\n",
      "wings (115)\n",
      "home (115)\n",
      "3 (115)\n",
      "making (115)\n",
      "between (114)\n",
      "special (114)\n",
      "expecting (114)\n",
      "need (113)\n",
      "breakfast (113)\n",
      "found (111)\n",
      "then (110)\n",
      "dinner (110)\n",
      "lickin (109)\n",
      "soooooooo (108)\n",
      "meat (108)\n",
      "friends (108)\n",
      "mmmm (107)\n",
      "seating (107)\n",
      "hear (107)\n",
      "value (106)\n",
      "reliably (106)\n",
      "sometimes (106)\n",
      "patio (105)\n",
      "beers (105)\n",
      "although (105)\n",
      "average (105)\n",
      "rooms (103)\n",
      "ever (102)\n",
      "gets (102)\n",
      "takes (102)\n",
      "hotel (102)\n",
      "these (101)\n",
      "every (101)\n",
      "now (100)\n",
      "mean (100)\n",
      "order (99)\n",
      "table (98)\n",
      "consistent (98)\n",
      "etc (98)\n",
      "crowd (97)\n",
      "try (97)\n",
      "plate (97)\n",
      "couple (97)\n",
      "roll (96)\n",
      "outrageously (96)\n",
      "less (96)\n",
      "tacos (95)\n",
      "tasting (95)\n",
      "seems (95)\n",
      "buffet (95)\n",
      "wicked (95)\n",
      "am (94)\n",
      "yum (94)\n",
      "playing (94)\n",
      "busy (94)\n",
      "side (93)\n",
      "better (93)\n",
      "yes (93)\n",
      "wait (93)\n",
      "+ (93)\n",
      "pay (93)\n",
      "environment (93)\n",
      "most (93)\n",
      "solidly (93)\n",
      "hot (92)\n",
      "sandwiches (92)\n",
      "inside (92)\n",
      "first (92)\n",
      "wow (92)\n",
      "those (92)\n",
      "providing (91)\n",
      "best (90)\n",
      "things (90)\n",
      "simply (89)\n",
      "wanted (89)\n",
      "done (89)\n",
      "1 (89)\n",
      "oh (89)\n",
      "anyway (88)\n",
      "serving (87)\n",
      "decently (87)\n",
      "work (87)\n",
      "parking (85)\n",
      "plus (85)\n",
      "ingredients (85)\n",
      "options (85)\n",
      "rice (84)\n",
      "crust (84)\n",
      "her (83)\n",
      "flavors (80)\n",
      "stuff (80)\n",
      "down (80)\n",
      "yet (80)\n",
      "specials (80)\n",
      "star (78)\n",
      "helpful (78)\n",
      "space (78)\n",
      "shrimp (77)\n",
      "friggin (77)\n",
      "cream (77)\n",
      "away (77)\n",
      "visit (76)\n",
      "else (76)\n",
      "typically (76)\n",
      "sinfully (76)\n",
      "cooked (76)\n",
      "omg (75)\n",
      "attentive (75)\n",
      "expected (75)\n",
      "paying (74)\n",
      "rolls (73)\n",
      "kinda (73)\n",
      "dam (73)\n",
      "shop (73)\n",
      "tea (73)\n",
      "ambience (72)\n",
      "potatoes (71)\n",
      "over (71)\n",
      "tables (71)\n",
      "4 (71)\n",
      "salsa (70)\n",
      "course (70)\n",
      "fantastic (70)\n",
      "taking (70)\n",
      "fine (70)\n",
      "huge (70)\n",
      "spicy (70)\n",
      "house (69)\n",
      "into (69)\n",
      "choices (69)\n",
      "three (69)\n",
      "stupid (68)\n",
      "shockingly (68)\n",
      "genuinely (68)\n",
      "provides (68)\n",
      "perfect (68)\n",
      "packed (68)\n",
      "gotten (68)\n",
      "show (68)\n",
      "deal (67)\n",
      "list (67)\n",
      "lot (67)\n",
      "cool (67)\n",
      "places (67)\n",
      "bone (66)\n",
      "see (66)\n",
      "knows (66)\n",
      "sweet (66)\n",
      "sure (66)\n",
      "reading (66)\n",
      "charts (65)\n",
      "different (65)\n",
      "business (65)\n",
      "chips (65)\n",
      "his (65)\n",
      "often (65)\n",
      "sooooooooo (64)\n",
      "casino (64)\n",
      "steak (64)\n",
      "check (64)\n",
      "dish (64)\n",
      "review (64)\n",
      "means (63)\n",
      "items (63)\n",
      "free (63)\n",
      "5 (62)\n",
      "fucking (62)\n",
      "gives (62)\n",
      "guaranteed (62)\n",
      "lol (61)\n",
      "door (61)\n",
      "saying (61)\n",
      "variety (61)\n",
      "already (61)\n",
      "small (60)\n",
      "loves (60)\n",
      "dangerously (60)\n",
      "yeah (60)\n",
      "affordable (59)\n",
      "minutes (59)\n",
      "dishes (59)\n",
      "tvs (59)\n",
      "comfortable (59)\n",
      "reasonable (59)\n",
      "going (59)\n",
      "served (59)\n",
      "standard (59)\n",
      "an (58)\n",
      "floor (58)\n",
      "joint (58)\n",
      "greasy (58)\n",
      "years (58)\n",
      "outside (57)\n",
      "offered (57)\n",
      "authentic (57)\n",
      "paid (57)\n",
      "remarkably (57)\n",
      "think (57)\n",
      "pool (56)\n"
     ]
    }
   ],
   "source": [
    "for key,value in cc.most_common(500):\n",
    "    print str(key).split(' ')[0].replace('(','').replace(\"'\",\"\") + \" \" + \"(%d)\" % value"
   ]
  },
  {
   "cell_type": "code",
   "execution_count": null,
   "metadata": {
    "collapsed": true
   },
   "outputs": [],
   "source": []
  }
 ],
 "metadata": {
  "kernelspec": {
   "display_name": "Python 2",
   "language": "python",
   "name": "python2"
  },
  "language_info": {
   "codemirror_mode": {
    "name": "ipython",
    "version": 2
   },
   "file_extension": ".py",
   "mimetype": "text/x-python",
   "name": "python",
   "nbconvert_exporter": "python",
   "pygments_lexer": "ipython2",
   "version": "2.7.11"
  }
 },
 "nbformat": 4,
 "nbformat_minor": 0
}
