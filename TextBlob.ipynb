{
 "cells": [
  {
   "cell_type": "markdown",
   "metadata": {},
   "source": [
    "### Import Packages"
   ]
  },
  {
   "cell_type": "code",
   "execution_count": 1,
   "metadata": {
    "collapsed": false
   },
   "outputs": [
    {
     "name": "stderr",
     "output_type": "stream",
     "text": [
      "/Users/tdavid/anaconda/lib/python2.7/site-packages/matplotlib/__init__.py:872: UserWarning: axes.color_cycle is deprecated and replaced with axes.prop_cycle; please use the latter.\n",
      "  warnings.warn(self.msg_depr % (key, alt_key))\n"
     ]
    }
   ],
   "source": [
    "import matplotlib.pyplot as plt\n",
    "import seaborn as sns\n",
    "import pandas as pd\n",
    "import numpy as np\n",
    "import collections\n",
    "from collections import Counter\n",
    "import seaborn as sns\n",
    "from textblob import TextBlob\n",
    "%matplotlib inline  "
   ]
  },
  {
   "cell_type": "markdown",
   "metadata": {},
   "source": [
    "### Read in DataSet"
   ]
  },
  {
   "cell_type": "code",
   "execution_count": 2,
   "metadata": {
    "collapsed": false
   },
   "outputs": [
    {
     "name": "stderr",
     "output_type": "stream",
     "text": [
      "/Users/tdavid/anaconda/lib/python2.7/site-packages/pandas/io/parsers.py:1170: DtypeWarning: Columns (0,8,14,16) have mixed types. Specify dtype option on import or set low_memory=False.\n",
      "  data = self._reader.read(nrows)\n"
     ]
    }
   ],
   "source": [
    "dt = pd.read_csv('/Users/tdavid/documents/MIDS/w210/dataset-examples-master/yelp_academic_all.csv')"
   ]
  },
  {
   "cell_type": "markdown",
   "metadata": {},
   "source": [
    "### Establish Blob"
   ]
  },
  {
   "cell_type": "code",
   "execution_count": 5,
   "metadata": {
    "collapsed": true
   },
   "outputs": [],
   "source": [
    "blob = TextBlob(dt.review_text[0].lower().replace(\"'\",\"\"))"
   ]
  },
  {
   "cell_type": "markdown",
   "metadata": {},
   "source": [
    "### Parts of Speech Tagging"
   ]
  },
  {
   "cell_type": "code",
   "execution_count": 6,
   "metadata": {
    "collapsed": false,
    "scrolled": true
   },
   "outputs": [
    {
     "data": {
      "text/plain": [
       "[('dr.', u'NN'),\n",
       " ('goldberg', u'NN'),\n",
       " ('offers', u'VBZ'),\n",
       " ('everything', u'NN'),\n",
       " ('i', u'NN'),\n",
       " ('look', u'VBP'),\n",
       " ('for', u'IN'),\n",
       " ('in', u'IN'),\n",
       " ('a', u'DT'),\n",
       " ('general', u'JJ'),\n",
       " ('practitioner', u'NN'),\n",
       " ('hes', u'NNS'),\n",
       " ('nice', u'JJ'),\n",
       " ('and', u'CC'),\n",
       " ('easy', u'JJ'),\n",
       " ('to', u'TO'),\n",
       " ('talk', u'VB'),\n",
       " ('to', u'TO'),\n",
       " ('without', u'IN'),\n",
       " ('being', u'VBG'),\n",
       " ('patronizing', u'VBG'),\n",
       " ('hes', u'NNS'),\n",
       " ('always', u'RB'),\n",
       " ('on', u'IN'),\n",
       " ('time', u'NN'),\n",
       " ('in', u'IN'),\n",
       " ('seeing', u'VBG'),\n",
       " ('his', u'PRP$'),\n",
       " ('patients', u'NNS'),\n",
       " ('hes', u'NNS'),\n",
       " ('affiliated', u'VBD'),\n",
       " ('with', u'IN'),\n",
       " ('a', u'DT'),\n",
       " ('top-notch', u'JJ'),\n",
       " ('hospital', u'NN'),\n",
       " ('nyu', u'NN'),\n",
       " ('which', u'WDT'),\n",
       " ('my', u'PRP$'),\n",
       " ('parents', u'NNS'),\n",
       " ('have', u'VBP'),\n",
       " ('explained', u'VBN'),\n",
       " ('to', u'TO'),\n",
       " ('me', u'PRP'),\n",
       " ('is', u'VBZ'),\n",
       " ('very', u'RB'),\n",
       " ('important', u'JJ'),\n",
       " ('in', u'IN'),\n",
       " ('case', u'NN'),\n",
       " ('something', u'NN'),\n",
       " ('happens', u'NNS'),\n",
       " ('and', u'CC'),\n",
       " ('you', u'PRP'),\n",
       " ('need', u'VBP'),\n",
       " ('surgery', u'RB'),\n",
       " ('and', u'CC'),\n",
       " ('you', u'PRP'),\n",
       " ('can', u'MD'),\n",
       " ('get', u'VB'),\n",
       " ('referrals', u'NNS'),\n",
       " ('to', u'TO'),\n",
       " ('see', u'VB'),\n",
       " ('specialists', u'NNS'),\n",
       " ('without', u'IN'),\n",
       " ('having', u'VBG'),\n",
       " ('to', u'TO'),\n",
       " ('see', u'VB'),\n",
       " ('him', u'PRP'),\n",
       " ('first', u'RB'),\n",
       " ('really', u'RB'),\n",
       " ('what', u'WP'),\n",
       " ('more', u'RBR'),\n",
       " ('do', u'VBP'),\n",
       " ('you', u'PRP'),\n",
       " ('need', u'VB'),\n",
       " ('im', u'VB'),\n",
       " ('sitting', u'VBG'),\n",
       " ('here', u'RB'),\n",
       " ('trying', u'VBG'),\n",
       " ('to', u'TO'),\n",
       " ('think', u'VB'),\n",
       " ('of', u'IN'),\n",
       " ('any', u'DT'),\n",
       " ('complaints', u'NNS'),\n",
       " ('i', u'NNS'),\n",
       " ('have', u'VBP'),\n",
       " ('about', u'IN'),\n",
       " ('him', u'PRP'),\n",
       " ('but', u'CC'),\n",
       " ('im', u'VBP'),\n",
       " ('really', u'RB'),\n",
       " ('drawing', u'VBG'),\n",
       " ('a', u'DT'),\n",
       " ('blank', u'NN')]"
      ]
     },
     "execution_count": 6,
     "metadata": {},
     "output_type": "execute_result"
    }
   ],
   "source": [
    "blob.tags"
   ]
  },
  {
   "cell_type": "markdown",
   "metadata": {},
   "source": [
    "### Sentiment (polarity: [-1,1], subjectivity: [-1,1])"
   ]
  },
  {
   "cell_type": "code",
   "execution_count": 7,
   "metadata": {
    "collapsed": false
   },
   "outputs": [
    {
     "data": {
      "text/plain": [
       "Sentiment(polarity=0.35030303030303034, subjectivity=0.5060606060606061)"
      ]
     },
     "execution_count": 7,
     "metadata": {},
     "output_type": "execute_result"
    }
   ],
   "source": [
    "blob.sentiment"
   ]
  },
  {
   "cell_type": "code",
   "execution_count": 9,
   "metadata": {
    "collapsed": false
   },
   "outputs": [
    {
     "data": {
      "text/plain": [
       "WordList(['dr', 'goldberg', 'offers', 'everything', 'i', 'look', 'for', 'in', 'a', 'general', 'practitioner', 'hes', 'nice', 'and', 'easy', 'to', 'talk', 'to', 'without', 'being', 'patronizing', 'hes', 'always', 'on', 'time', 'in', 'seeing', 'his', 'patients', 'hes', 'affiliated', 'with', 'a', 'top-notch', 'hospital', 'nyu', 'which', 'my', 'parents', 'have', 'explained', 'to', 'me', 'is', 'very', 'important', 'in', 'case', 'something', 'happens', 'and', 'you', 'need', 'surgery', 'and', 'you', 'can', 'get', 'referrals', 'to', 'see', 'specialists', 'without', 'having', 'to', 'see', 'him', 'first', 'really', 'what', 'more', 'do', 'you', 'need', 'im', 'sitting', 'here', 'trying', 'to', 'think', 'of', 'any', 'complaints', 'i', 'have', 'about', 'him', 'but', 'im', 'really', 'drawing', 'a', 'blank'])"
      ]
     },
     "execution_count": 9,
     "metadata": {},
     "output_type": "execute_result"
    }
   ],
   "source": [
    "blob.words"
   ]
  },
  {
   "cell_type": "code",
   "execution_count": 10,
   "metadata": {
    "collapsed": false,
    "scrolled": true
   },
   "outputs": [
    {
     "data": {
      "text/plain": [
       "[WordList(['dr', 'goldberg']),\n",
       " WordList(['goldberg', 'offers']),\n",
       " WordList(['offers', 'everything']),\n",
       " WordList(['everything', 'i']),\n",
       " WordList(['i', 'look']),\n",
       " WordList(['look', 'for']),\n",
       " WordList(['for', 'in']),\n",
       " WordList(['in', 'a']),\n",
       " WordList(['a', 'general']),\n",
       " WordList(['general', 'practitioner']),\n",
       " WordList(['practitioner', 'hes']),\n",
       " WordList(['hes', 'nice']),\n",
       " WordList(['nice', 'and']),\n",
       " WordList(['and', 'easy']),\n",
       " WordList(['easy', 'to']),\n",
       " WordList(['to', 'talk']),\n",
       " WordList(['talk', 'to']),\n",
       " WordList(['to', 'without']),\n",
       " WordList(['without', 'being']),\n",
       " WordList(['being', 'patronizing']),\n",
       " WordList(['patronizing', 'hes']),\n",
       " WordList(['hes', 'always']),\n",
       " WordList(['always', 'on']),\n",
       " WordList(['on', 'time']),\n",
       " WordList(['time', 'in']),\n",
       " WordList(['in', 'seeing']),\n",
       " WordList(['seeing', 'his']),\n",
       " WordList(['his', 'patients']),\n",
       " WordList(['patients', 'hes']),\n",
       " WordList(['hes', 'affiliated']),\n",
       " WordList(['affiliated', 'with']),\n",
       " WordList(['with', 'a']),\n",
       " WordList(['a', 'top-notch']),\n",
       " WordList(['top-notch', 'hospital']),\n",
       " WordList(['hospital', 'nyu']),\n",
       " WordList(['nyu', 'which']),\n",
       " WordList(['which', 'my']),\n",
       " WordList(['my', 'parents']),\n",
       " WordList(['parents', 'have']),\n",
       " WordList(['have', 'explained']),\n",
       " WordList(['explained', 'to']),\n",
       " WordList(['to', 'me']),\n",
       " WordList(['me', 'is']),\n",
       " WordList(['is', 'very']),\n",
       " WordList(['very', 'important']),\n",
       " WordList(['important', 'in']),\n",
       " WordList(['in', 'case']),\n",
       " WordList(['case', 'something']),\n",
       " WordList(['something', 'happens']),\n",
       " WordList(['happens', 'and']),\n",
       " WordList(['and', 'you']),\n",
       " WordList(['you', 'need']),\n",
       " WordList(['need', 'surgery']),\n",
       " WordList(['surgery', 'and']),\n",
       " WordList(['and', 'you']),\n",
       " WordList(['you', 'can']),\n",
       " WordList(['can', 'get']),\n",
       " WordList(['get', 'referrals']),\n",
       " WordList(['referrals', 'to']),\n",
       " WordList(['to', 'see']),\n",
       " WordList(['see', 'specialists']),\n",
       " WordList(['specialists', 'without']),\n",
       " WordList(['without', 'having']),\n",
       " WordList(['having', 'to']),\n",
       " WordList(['to', 'see']),\n",
       " WordList(['see', 'him']),\n",
       " WordList(['him', 'first']),\n",
       " WordList(['first', 'really']),\n",
       " WordList(['really', 'what']),\n",
       " WordList(['what', 'more']),\n",
       " WordList(['more', 'do']),\n",
       " WordList(['do', 'you']),\n",
       " WordList(['you', 'need']),\n",
       " WordList(['need', 'im']),\n",
       " WordList(['im', 'sitting']),\n",
       " WordList(['sitting', 'here']),\n",
       " WordList(['here', 'trying']),\n",
       " WordList(['trying', 'to']),\n",
       " WordList(['to', 'think']),\n",
       " WordList(['think', 'of']),\n",
       " WordList(['of', 'any']),\n",
       " WordList(['any', 'complaints']),\n",
       " WordList(['complaints', 'i']),\n",
       " WordList(['i', 'have']),\n",
       " WordList(['have', 'about']),\n",
       " WordList(['about', 'him']),\n",
       " WordList(['him', 'but']),\n",
       " WordList(['but', 'im']),\n",
       " WordList(['im', 'really']),\n",
       " WordList(['really', 'drawing']),\n",
       " WordList(['drawing', 'a']),\n",
       " WordList(['a', 'blank'])]"
      ]
     },
     "execution_count": 10,
     "metadata": {},
     "output_type": "execute_result"
    }
   ],
   "source": [
    "blob.ngrams(n=2)"
   ]
  },
  {
   "cell_type": "markdown",
   "metadata": {},
   "source": [
    "### Word Count"
   ]
  },
  {
   "cell_type": "code",
   "execution_count": 11,
   "metadata": {
    "collapsed": false
   },
   "outputs": [
    {
     "data": {
      "text/plain": [
       "1"
      ]
     },
     "execution_count": 11,
     "metadata": {},
     "output_type": "execute_result"
    }
   ],
   "source": [
    "blob.words.count('nice')"
   ]
  },
  {
   "cell_type": "markdown",
   "metadata": {},
   "source": [
    "### Print Sentences"
   ]
  },
  {
   "cell_type": "code",
   "execution_count": 12,
   "metadata": {
    "collapsed": false
   },
   "outputs": [
    {
     "name": "stdout",
     "output_type": "stream",
     "text": [
      "dr. goldberg offers everything i look for in a general practitioner.\n",
      "hes nice and easy to talk to without being patronizing; hes always on time in seeing his patients; hes affiliated with a top-notch hospital (nyu) which my parents have explained to me is very important in case something happens and you need surgery; and you can get referrals to see specialists without having to see him first.\n",
      "really, what more do you need?\n",
      "im sitting here trying to think of any complaints i have about him, but im really drawing a blank.\n"
     ]
    }
   ],
   "source": [
    "for sentence in blob.sentences:\n",
    "    print sentence"
   ]
  },
  {
   "cell_type": "markdown",
   "metadata": {},
   "source": [
    "### Translate"
   ]
  },
  {
   "cell_type": "code",
   "execution_count": 13,
   "metadata": {
    "collapsed": false
   },
   "outputs": [
    {
     "data": {
      "text/plain": [
       "TextBlob(\"Dr. Goldberg ofrece todo lo que busca en un médico de medicina general. hes agradable y fácil de hablar sin ser condescendiente; hes siempre a tiempo en ver a sus pacientes; hes afiliados a un hospital de primera categoría (NYU), que mis padres me han explicado es muy importante en caso de que algo sucede y lo que necesita la cirugía; y se puede obtener una recomendación para visitar especialistas sin tener que verlo primero. Realmente, ¿qué más se puede pedir? im sentado aquí tratando de pensar en cualquier queja que tengo sobre él, pero estoy realmente un dibujo en blanco.\")"
      ]
     },
     "execution_count": 13,
     "metadata": {},
     "output_type": "execute_result"
    }
   ],
   "source": [
    "blob.translate(to=\"es\")"
   ]
  },
  {
   "cell_type": "code",
   "execution_count": null,
   "metadata": {
    "collapsed": false
   },
   "outputs": [],
   "source": []
  },
  {
   "cell_type": "code",
   "execution_count": null,
   "metadata": {
    "collapsed": true
   },
   "outputs": [],
   "source": []
  }
 ],
 "metadata": {
  "kernelspec": {
   "display_name": "Python 2",
   "language": "python",
   "name": "python2"
  },
  "language_info": {
   "codemirror_mode": {
    "name": "ipython",
    "version": 2
   },
   "file_extension": ".py",
   "mimetype": "text/x-python",
   "name": "python",
   "nbconvert_exporter": "python",
   "pygments_lexer": "ipython2",
   "version": "2.7.11"
  }
 },
 "nbformat": 4,
 "nbformat_minor": 0
}
